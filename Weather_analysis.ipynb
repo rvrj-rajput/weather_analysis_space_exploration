{
 "cells": [
  {
   "cell_type": "code",
   "execution_count": 1,
   "metadata": {},
   "outputs": [],
   "source": [
    "import numpy as np\n",
    "import pandas as pd\n",
    "import matplotlib.pyplot as plt\n",
    "import seaborn as sns\n",
    "%matplotlib inline\n",
    "pd.set_option('display.max_columns', 100)"
   ]
  },
  {
   "cell_type": "code",
   "execution_count": 2,
   "metadata": {},
   "outputs": [],
   "source": [
    "from sklearn import preprocessing"
   ]
  },
  {
   "cell_type": "code",
   "execution_count": 3,
   "metadata": {
    "scrolled": false
   },
   "outputs": [
    {
     "data": {
      "text/html": [
       "<div>\n",
       "<style scoped>\n",
       "    .dataframe tbody tr th:only-of-type {\n",
       "        vertical-align: middle;\n",
       "    }\n",
       "\n",
       "    .dataframe tbody tr th {\n",
       "        vertical-align: top;\n",
       "    }\n",
       "\n",
       "    .dataframe thead th {\n",
       "        text-align: right;\n",
       "    }\n",
       "</style>\n",
       "<table border=\"1\" class=\"dataframe\">\n",
       "  <thead>\n",
       "    <tr style=\"text-align: right;\">\n",
       "      <th></th>\n",
       "      <th>Name</th>\n",
       "      <th>Date</th>\n",
       "      <th>Time (East Coast)</th>\n",
       "      <th>Location</th>\n",
       "      <th>Crewed or Uncrewed</th>\n",
       "      <th>Launched?</th>\n",
       "      <th>High Temp</th>\n",
       "      <th>Low Temp</th>\n",
       "      <th>Ave Temp</th>\n",
       "      <th>Temp at Launch Time</th>\n",
       "      <th>Hist High Temp</th>\n",
       "      <th>Hist Low Temp</th>\n",
       "      <th>Hist Ave Temp</th>\n",
       "      <th>Percipitation at Launch Time</th>\n",
       "      <th>Hist Ave Percipitation</th>\n",
       "      <th>Wind Direction</th>\n",
       "      <th>Max Wind Speed</th>\n",
       "      <th>Visibility</th>\n",
       "      <th>Wind Speed at Launch Time</th>\n",
       "      <th>Hist Ave Max Wind Speed</th>\n",
       "      <th>Hist Ave Visibility</th>\n",
       "      <th>Sea Level Pressure</th>\n",
       "      <th>Hist Ave Sea Level Pressure</th>\n",
       "      <th>Day Length</th>\n",
       "      <th>Condition</th>\n",
       "      <th>Notes</th>\n",
       "    </tr>\n",
       "  </thead>\n",
       "  <tbody>\n",
       "    <tr>\n",
       "      <th>0</th>\n",
       "      <td>NaN</td>\n",
       "      <td>1958-12-04</td>\n",
       "      <td>NaN</td>\n",
       "      <td>Cape Canaveral</td>\n",
       "      <td>NaN</td>\n",
       "      <td>NaN</td>\n",
       "      <td>75.0</td>\n",
       "      <td>68.0</td>\n",
       "      <td>71.00</td>\n",
       "      <td>NaN</td>\n",
       "      <td>75.0</td>\n",
       "      <td>55.0</td>\n",
       "      <td>65.0</td>\n",
       "      <td>0.0</td>\n",
       "      <td>0.08</td>\n",
       "      <td>E</td>\n",
       "      <td>16.0</td>\n",
       "      <td>15.0</td>\n",
       "      <td>NaN</td>\n",
       "      <td>NaN</td>\n",
       "      <td>NaN</td>\n",
       "      <td>30.22</td>\n",
       "      <td>NaN</td>\n",
       "      <td>10:26:00</td>\n",
       "      <td>Cloudy</td>\n",
       "      <td>NaN</td>\n",
       "    </tr>\n",
       "    <tr>\n",
       "      <th>1</th>\n",
       "      <td>NaN</td>\n",
       "      <td>1958-12-05</td>\n",
       "      <td>NaN</td>\n",
       "      <td>Cape Canaveral</td>\n",
       "      <td>NaN</td>\n",
       "      <td>NaN</td>\n",
       "      <td>78.0</td>\n",
       "      <td>70.0</td>\n",
       "      <td>73.39</td>\n",
       "      <td>NaN</td>\n",
       "      <td>75.0</td>\n",
       "      <td>55.0</td>\n",
       "      <td>65.0</td>\n",
       "      <td>0.0</td>\n",
       "      <td>0.09</td>\n",
       "      <td>E</td>\n",
       "      <td>14.0</td>\n",
       "      <td>10.0</td>\n",
       "      <td>NaN</td>\n",
       "      <td>NaN</td>\n",
       "      <td>NaN</td>\n",
       "      <td>30.2</td>\n",
       "      <td>NaN</td>\n",
       "      <td>10:26:00</td>\n",
       "      <td>Cloudy</td>\n",
       "      <td>NaN</td>\n",
       "    </tr>\n",
       "    <tr>\n",
       "      <th>2</th>\n",
       "      <td>Pioneer 3</td>\n",
       "      <td>1958-12-06</td>\n",
       "      <td>01:45:00</td>\n",
       "      <td>Cape Canaveral</td>\n",
       "      <td>Uncrewed</td>\n",
       "      <td>Y</td>\n",
       "      <td>73.0</td>\n",
       "      <td>0.0</td>\n",
       "      <td>60.21</td>\n",
       "      <td>62.0</td>\n",
       "      <td>75.0</td>\n",
       "      <td>55.0</td>\n",
       "      <td>65.0</td>\n",
       "      <td>0.0</td>\n",
       "      <td>0.09</td>\n",
       "      <td>NE</td>\n",
       "      <td>15.0</td>\n",
       "      <td>10.0</td>\n",
       "      <td>11.0</td>\n",
       "      <td>NaN</td>\n",
       "      <td>NaN</td>\n",
       "      <td>30.25</td>\n",
       "      <td>NaN</td>\n",
       "      <td>10:25:00</td>\n",
       "      <td>Cloudy</td>\n",
       "      <td>NaN</td>\n",
       "    </tr>\n",
       "    <tr>\n",
       "      <th>3</th>\n",
       "      <td>NaN</td>\n",
       "      <td>1958-12-07</td>\n",
       "      <td>NaN</td>\n",
       "      <td>Cape Canaveral</td>\n",
       "      <td>NaN</td>\n",
       "      <td>NaN</td>\n",
       "      <td>76.0</td>\n",
       "      <td>57.0</td>\n",
       "      <td>66.04</td>\n",
       "      <td>NaN</td>\n",
       "      <td>75.0</td>\n",
       "      <td>55.0</td>\n",
       "      <td>65.0</td>\n",
       "      <td>0.0</td>\n",
       "      <td>0.08</td>\n",
       "      <td>N</td>\n",
       "      <td>10.0</td>\n",
       "      <td>10.0</td>\n",
       "      <td>NaN</td>\n",
       "      <td>NaN</td>\n",
       "      <td>NaN</td>\n",
       "      <td>30.28</td>\n",
       "      <td>NaN</td>\n",
       "      <td>10:25:00</td>\n",
       "      <td>Partly Cloudy</td>\n",
       "      <td>NaN</td>\n",
       "    </tr>\n",
       "    <tr>\n",
       "      <th>4</th>\n",
       "      <td>NaN</td>\n",
       "      <td>1958-12-08</td>\n",
       "      <td>NaN</td>\n",
       "      <td>Cape Canaveral</td>\n",
       "      <td>NaN</td>\n",
       "      <td>NaN</td>\n",
       "      <td>79.0</td>\n",
       "      <td>60.0</td>\n",
       "      <td>70.52</td>\n",
       "      <td>NaN</td>\n",
       "      <td>75.0</td>\n",
       "      <td>55.0</td>\n",
       "      <td>65.0</td>\n",
       "      <td>0.0</td>\n",
       "      <td>0.09</td>\n",
       "      <td>E</td>\n",
       "      <td>12.0</td>\n",
       "      <td>10.0</td>\n",
       "      <td>NaN</td>\n",
       "      <td>NaN</td>\n",
       "      <td>NaN</td>\n",
       "      <td>30.23</td>\n",
       "      <td>NaN</td>\n",
       "      <td>12:24:00</td>\n",
       "      <td>Partly Cloudy</td>\n",
       "      <td>NaN</td>\n",
       "    </tr>\n",
       "  </tbody>\n",
       "</table>\n",
       "</div>"
      ],
      "text/plain": [
       "        Name       Date Time (East Coast)        Location Crewed or Uncrewed  \\\n",
       "0        NaN 1958-12-04               NaN  Cape Canaveral                NaN   \n",
       "1        NaN 1958-12-05               NaN  Cape Canaveral                NaN   \n",
       "2  Pioneer 3 1958-12-06          01:45:00  Cape Canaveral           Uncrewed   \n",
       "3        NaN 1958-12-07               NaN  Cape Canaveral                NaN   \n",
       "4        NaN 1958-12-08               NaN  Cape Canaveral                NaN   \n",
       "\n",
       "  Launched?  High Temp  Low Temp  Ave Temp  Temp at Launch Time  \\\n",
       "0       NaN       75.0      68.0     71.00                  NaN   \n",
       "1       NaN       78.0      70.0     73.39                  NaN   \n",
       "2         Y       73.0       0.0     60.21                 62.0   \n",
       "3       NaN       76.0      57.0     66.04                  NaN   \n",
       "4       NaN       79.0      60.0     70.52                  NaN   \n",
       "\n",
       "   Hist High Temp  Hist Low Temp  Hist Ave Temp  Percipitation at Launch Time  \\\n",
       "0            75.0           55.0           65.0                           0.0   \n",
       "1            75.0           55.0           65.0                           0.0   \n",
       "2            75.0           55.0           65.0                           0.0   \n",
       "3            75.0           55.0           65.0                           0.0   \n",
       "4            75.0           55.0           65.0                           0.0   \n",
       "\n",
       "   Hist Ave Percipitation Wind Direction  Max Wind Speed  Visibility  \\\n",
       "0                    0.08              E            16.0        15.0   \n",
       "1                    0.09              E            14.0        10.0   \n",
       "2                    0.09             NE            15.0        10.0   \n",
       "3                    0.08              N            10.0        10.0   \n",
       "4                    0.09              E            12.0        10.0   \n",
       "\n",
       "   Wind Speed at Launch Time  Hist Ave Max Wind Speed  Hist Ave Visibility  \\\n",
       "0                        NaN                      NaN                  NaN   \n",
       "1                        NaN                      NaN                  NaN   \n",
       "2                       11.0                      NaN                  NaN   \n",
       "3                        NaN                      NaN                  NaN   \n",
       "4                        NaN                      NaN                  NaN   \n",
       "\n",
       "  Sea Level Pressure  Hist Ave Sea Level Pressure Day Length      Condition  \\\n",
       "0              30.22                          NaN   10:26:00         Cloudy   \n",
       "1               30.2                          NaN   10:26:00         Cloudy   \n",
       "2              30.25                          NaN   10:25:00         Cloudy   \n",
       "3              30.28                          NaN   10:25:00  Partly Cloudy   \n",
       "4              30.23                          NaN   12:24:00  Partly Cloudy   \n",
       "\n",
       "  Notes  \n",
       "0   NaN  \n",
       "1   NaN  \n",
       "2   NaN  \n",
       "3   NaN  \n",
       "4   NaN  "
      ]
     },
     "execution_count": 3,
     "metadata": {},
     "output_type": "execute_result"
    }
   ],
   "source": [
    "launch_data = pd.read_excel('RocketLaunchDataCompleted.xlsx')\n",
    "launch_data.head()"
   ]
  },
  {
   "cell_type": "code",
   "execution_count": 4,
   "metadata": {
    "scrolled": true
   },
   "outputs": [
    {
     "data": {
      "text/html": [
       "<div>\n",
       "<style scoped>\n",
       "    .dataframe tbody tr th:only-of-type {\n",
       "        vertical-align: middle;\n",
       "    }\n",
       "\n",
       "    .dataframe tbody tr th {\n",
       "        vertical-align: top;\n",
       "    }\n",
       "\n",
       "    .dataframe thead th {\n",
       "        text-align: right;\n",
       "    }\n",
       "</style>\n",
       "<table border=\"1\" class=\"dataframe\">\n",
       "  <thead>\n",
       "    <tr style=\"text-align: right;\">\n",
       "      <th></th>\n",
       "      <th>Name</th>\n",
       "      <th>Date</th>\n",
       "      <th>Time (East Coast)</th>\n",
       "      <th>Location</th>\n",
       "      <th>Crewed or Uncrewed</th>\n",
       "      <th>Launched?</th>\n",
       "      <th>High Temp</th>\n",
       "      <th>Low Temp</th>\n",
       "      <th>Ave Temp</th>\n",
       "      <th>Temp at Launch Time</th>\n",
       "      <th>Hist High Temp</th>\n",
       "      <th>Hist Low Temp</th>\n",
       "      <th>Hist Ave Temp</th>\n",
       "      <th>Percipitation at Launch Time</th>\n",
       "      <th>Hist Ave Percipitation</th>\n",
       "      <th>Wind Direction</th>\n",
       "      <th>Max Wind Speed</th>\n",
       "      <th>Visibility</th>\n",
       "      <th>Wind Speed at Launch Time</th>\n",
       "      <th>Hist Ave Max Wind Speed</th>\n",
       "      <th>Hist Ave Visibility</th>\n",
       "      <th>Sea Level Pressure</th>\n",
       "      <th>Hist Ave Sea Level Pressure</th>\n",
       "      <th>Day Length</th>\n",
       "      <th>Condition</th>\n",
       "      <th>Notes</th>\n",
       "    </tr>\n",
       "  </thead>\n",
       "  <tbody>\n",
       "    <tr>\n",
       "      <th>295</th>\n",
       "      <td>NaN</td>\n",
       "      <td>2020-05-28</td>\n",
       "      <td>NaN</td>\n",
       "      <td>Cape Canaveral</td>\n",
       "      <td>NaN</td>\n",
       "      <td>NaN</td>\n",
       "      <td>87.0</td>\n",
       "      <td>71.0</td>\n",
       "      <td>79.36</td>\n",
       "      <td>NaN</td>\n",
       "      <td>87.0</td>\n",
       "      <td>70.0</td>\n",
       "      <td>79.0</td>\n",
       "      <td>0.00</td>\n",
       "      <td>0.15</td>\n",
       "      <td>S</td>\n",
       "      <td>20.0</td>\n",
       "      <td>10.0</td>\n",
       "      <td>NaN</td>\n",
       "      <td>NaN</td>\n",
       "      <td>NaN</td>\n",
       "      <td>30.08</td>\n",
       "      <td>NaN</td>\n",
       "      <td>13:45:00</td>\n",
       "      <td>Thunder</td>\n",
       "      <td>NaN</td>\n",
       "    </tr>\n",
       "    <tr>\n",
       "      <th>296</th>\n",
       "      <td>NaN</td>\n",
       "      <td>2020-05-29</td>\n",
       "      <td>NaN</td>\n",
       "      <td>Cape Canaveral</td>\n",
       "      <td>NaN</td>\n",
       "      <td>NaN</td>\n",
       "      <td>86.0</td>\n",
       "      <td>72.0</td>\n",
       "      <td>79.50</td>\n",
       "      <td>NaN</td>\n",
       "      <td>88.0</td>\n",
       "      <td>70.0</td>\n",
       "      <td>79.0</td>\n",
       "      <td>0.01</td>\n",
       "      <td>0.16</td>\n",
       "      <td>SE</td>\n",
       "      <td>18.0</td>\n",
       "      <td>10.0</td>\n",
       "      <td>NaN</td>\n",
       "      <td>NaN</td>\n",
       "      <td>NaN</td>\n",
       "      <td>30.05</td>\n",
       "      <td>NaN</td>\n",
       "      <td>13:46:00</td>\n",
       "      <td>Fair</td>\n",
       "      <td>NaN</td>\n",
       "    </tr>\n",
       "    <tr>\n",
       "      <th>297</th>\n",
       "      <td>Space X Dragon</td>\n",
       "      <td>2020-05-30</td>\n",
       "      <td>20:22:00</td>\n",
       "      <td>Cape Canaveral</td>\n",
       "      <td>Crewed</td>\n",
       "      <td>Y</td>\n",
       "      <td>87.0</td>\n",
       "      <td>75.0</td>\n",
       "      <td>79.69</td>\n",
       "      <td>80.0</td>\n",
       "      <td>88.0</td>\n",
       "      <td>70.0</td>\n",
       "      <td>79.0</td>\n",
       "      <td>0.00</td>\n",
       "      <td>0.16</td>\n",
       "      <td>SE</td>\n",
       "      <td>16.0</td>\n",
       "      <td>10.0</td>\n",
       "      <td>7.0</td>\n",
       "      <td>NaN</td>\n",
       "      <td>NaN</td>\n",
       "      <td>30.03</td>\n",
       "      <td>NaN</td>\n",
       "      <td>13:47:00</td>\n",
       "      <td>Fair</td>\n",
       "      <td>Rain before launch</td>\n",
       "    </tr>\n",
       "    <tr>\n",
       "      <th>298</th>\n",
       "      <td>NaN</td>\n",
       "      <td>2020-05-31</td>\n",
       "      <td>NaN</td>\n",
       "      <td>Cape Canaveral</td>\n",
       "      <td>NaN</td>\n",
       "      <td>NaN</td>\n",
       "      <td>87.0</td>\n",
       "      <td>72.0</td>\n",
       "      <td>79.70</td>\n",
       "      <td>NaN</td>\n",
       "      <td>88.0</td>\n",
       "      <td>70.0</td>\n",
       "      <td>79.0</td>\n",
       "      <td>0.46</td>\n",
       "      <td>0.16</td>\n",
       "      <td>E</td>\n",
       "      <td>13.0</td>\n",
       "      <td>10.0</td>\n",
       "      <td>NaN</td>\n",
       "      <td>NaN</td>\n",
       "      <td>NaN</td>\n",
       "      <td>30.01</td>\n",
       "      <td>NaN</td>\n",
       "      <td>13:47:00</td>\n",
       "      <td>Cloudy</td>\n",
       "      <td>NaN</td>\n",
       "    </tr>\n",
       "    <tr>\n",
       "      <th>299</th>\n",
       "      <td>NaN</td>\n",
       "      <td>2020-06-01</td>\n",
       "      <td>NaN</td>\n",
       "      <td>Cape Canaveral</td>\n",
       "      <td>NaN</td>\n",
       "      <td>NaN</td>\n",
       "      <td>85.0</td>\n",
       "      <td>76.0</td>\n",
       "      <td>80.31</td>\n",
       "      <td>NaN</td>\n",
       "      <td>88.0</td>\n",
       "      <td>70.0</td>\n",
       "      <td>79.0</td>\n",
       "      <td>0.00</td>\n",
       "      <td>0.19</td>\n",
       "      <td>E</td>\n",
       "      <td>16.0</td>\n",
       "      <td>10.0</td>\n",
       "      <td>NaN</td>\n",
       "      <td>NaN</td>\n",
       "      <td>NaN</td>\n",
       "      <td>30.08</td>\n",
       "      <td>NaN</td>\n",
       "      <td>13:48:00</td>\n",
       "      <td>Cloudy</td>\n",
       "      <td>NaN</td>\n",
       "    </tr>\n",
       "  </tbody>\n",
       "</table>\n",
       "</div>"
      ],
      "text/plain": [
       "               Name       Date Time (East Coast)        Location  \\\n",
       "295             NaN 2020-05-28               NaN  Cape Canaveral   \n",
       "296             NaN 2020-05-29               NaN  Cape Canaveral   \n",
       "297  Space X Dragon 2020-05-30          20:22:00  Cape Canaveral   \n",
       "298             NaN 2020-05-31               NaN  Cape Canaveral   \n",
       "299             NaN 2020-06-01               NaN  Cape Canaveral   \n",
       "\n",
       "    Crewed or Uncrewed Launched?  High Temp  Low Temp  Ave Temp  \\\n",
       "295                NaN       NaN       87.0      71.0     79.36   \n",
       "296                NaN       NaN       86.0      72.0     79.50   \n",
       "297             Crewed         Y       87.0      75.0     79.69   \n",
       "298                NaN       NaN       87.0      72.0     79.70   \n",
       "299                NaN       NaN       85.0      76.0     80.31   \n",
       "\n",
       "     Temp at Launch Time  Hist High Temp  Hist Low Temp  Hist Ave Temp  \\\n",
       "295                  NaN            87.0           70.0           79.0   \n",
       "296                  NaN            88.0           70.0           79.0   \n",
       "297                 80.0            88.0           70.0           79.0   \n",
       "298                  NaN            88.0           70.0           79.0   \n",
       "299                  NaN            88.0           70.0           79.0   \n",
       "\n",
       "     Percipitation at Launch Time  Hist Ave Percipitation Wind Direction  \\\n",
       "295                          0.00                    0.15              S   \n",
       "296                          0.01                    0.16             SE   \n",
       "297                          0.00                    0.16             SE   \n",
       "298                          0.46                    0.16              E   \n",
       "299                          0.00                    0.19              E   \n",
       "\n",
       "     Max Wind Speed  Visibility  Wind Speed at Launch Time  \\\n",
       "295            20.0        10.0                        NaN   \n",
       "296            18.0        10.0                        NaN   \n",
       "297            16.0        10.0                        7.0   \n",
       "298            13.0        10.0                        NaN   \n",
       "299            16.0        10.0                        NaN   \n",
       "\n",
       "     Hist Ave Max Wind Speed  Hist Ave Visibility Sea Level Pressure  \\\n",
       "295                      NaN                  NaN              30.08   \n",
       "296                      NaN                  NaN              30.05   \n",
       "297                      NaN                  NaN              30.03   \n",
       "298                      NaN                  NaN              30.01   \n",
       "299                      NaN                  NaN              30.08   \n",
       "\n",
       "     Hist Ave Sea Level Pressure Day Length Condition               Notes  \n",
       "295                          NaN   13:45:00   Thunder                 NaN  \n",
       "296                          NaN   13:46:00      Fair                 NaN  \n",
       "297                          NaN   13:47:00      Fair  Rain before launch  \n",
       "298                          NaN   13:47:00    Cloudy                 NaN  \n",
       "299                          NaN   13:48:00    Cloudy                 NaN  "
      ]
     },
     "execution_count": 4,
     "metadata": {},
     "output_type": "execute_result"
    }
   ],
   "source": [
    "launch_data.tail()"
   ]
  },
  {
   "cell_type": "code",
   "execution_count": 5,
   "metadata": {},
   "outputs": [
    {
     "data": {
      "text/plain": [
       "array(['Cloudy', 'Partly Cloudy', 'Mostly Cloudy', 'Fair', 'Windy',\n",
       "       'T-Storm', 'Rain', 'Thunder', nan, 'Partly Cloudly', 'Light Rain',\n",
       "       'Heavy T-Storm'], dtype=object)"
      ]
     },
     "execution_count": 5,
     "metadata": {},
     "output_type": "execute_result"
    }
   ],
   "source": [
    "launch_data['Condition'].unique()"
   ]
  },
  {
   "cell_type": "code",
   "execution_count": 6,
   "metadata": {},
   "outputs": [
    {
     "data": {
      "text/plain": [
       "Index(['Name', 'Date', 'Time (East Coast)', 'Location', 'Crewed or Uncrewed',\n",
       "       'Launched?', 'High Temp', 'Low Temp', 'Ave Temp', 'Temp at Launch Time',\n",
       "       'Hist High Temp', 'Hist Low Temp', 'Hist Ave Temp',\n",
       "       'Percipitation at Launch Time', 'Hist Ave Percipitation',\n",
       "       'Wind Direction', 'Max Wind Speed', 'Visibility',\n",
       "       'Wind Speed at Launch Time', 'Hist Ave Max Wind Speed',\n",
       "       'Hist Ave Visibility', 'Sea Level Pressure',\n",
       "       'Hist Ave Sea Level Pressure', 'Day Length', 'Condition', 'Notes'],\n",
       "      dtype='object')"
      ]
     },
     "execution_count": 6,
     "metadata": {},
     "output_type": "execute_result"
    }
   ],
   "source": [
    "launch_data.columns"
   ]
  },
  {
   "cell_type": "code",
   "execution_count": 7,
   "metadata": {},
   "outputs": [
    {
     "name": "stdout",
     "output_type": "stream",
     "text": [
      "<class 'pandas.core.frame.DataFrame'>\n",
      "RangeIndex: 300 entries, 0 to 299\n",
      "Data columns (total 26 columns):\n",
      " #   Column                        Non-Null Count  Dtype         \n",
      "---  ------                        --------------  -----         \n",
      " 0   Name                          60 non-null     object        \n",
      " 1   Date                          300 non-null    datetime64[ns]\n",
      " 2   Time (East Coast)             59 non-null     object        \n",
      " 3   Location                      300 non-null    object        \n",
      " 4   Crewed or Uncrewed            60 non-null     object        \n",
      " 5   Launched?                     60 non-null     object        \n",
      " 6   High Temp                     299 non-null    float64       \n",
      " 7   Low Temp                      299 non-null    float64       \n",
      " 8   Ave Temp                      299 non-null    float64       \n",
      " 9   Temp at Launch Time           59 non-null     float64       \n",
      " 10  Hist High Temp                299 non-null    float64       \n",
      " 11  Hist Low Temp                 299 non-null    float64       \n",
      " 12  Hist Ave Temp                 299 non-null    float64       \n",
      " 13  Percipitation at Launch Time  299 non-null    float64       \n",
      " 14  Hist Ave Percipitation        299 non-null    float64       \n",
      " 15  Wind Direction                299 non-null    object        \n",
      " 16  Max Wind Speed                299 non-null    float64       \n",
      " 17  Visibility                    299 non-null    float64       \n",
      " 18  Wind Speed at Launch Time     59 non-null     float64       \n",
      " 19  Hist Ave Max Wind Speed       0 non-null      float64       \n",
      " 20  Hist Ave Visibility           0 non-null      float64       \n",
      " 21  Sea Level Pressure            299 non-null    object        \n",
      " 22  Hist Ave Sea Level Pressure   0 non-null      float64       \n",
      " 23  Day Length                    298 non-null    object        \n",
      " 24  Condition                     298 non-null    object        \n",
      " 25  Notes                         3 non-null      object        \n",
      "dtypes: datetime64[ns](1), float64(15), object(10)\n",
      "memory usage: 61.1+ KB\n"
     ]
    }
   ],
   "source": [
    "launch_data.info()"
   ]
  },
  {
   "cell_type": "code",
   "execution_count": 8,
   "metadata": {},
   "outputs": [
    {
     "data": {
      "text/plain": [
       "Name                            240\n",
       "Date                              0\n",
       "Time (East Coast)               241\n",
       "Location                          0\n",
       "Crewed or Uncrewed              240\n",
       "Launched?                       240\n",
       "High Temp                         1\n",
       "Low Temp                          1\n",
       "Ave Temp                          1\n",
       "Temp at Launch Time             241\n",
       "Hist High Temp                    1\n",
       "Hist Low Temp                     1\n",
       "Hist Ave Temp                     1\n",
       "Percipitation at Launch Time      1\n",
       "Hist Ave Percipitation            1\n",
       "Wind Direction                    1\n",
       "Max Wind Speed                    1\n",
       "Visibility                        1\n",
       "Wind Speed at Launch Time       241\n",
       "Hist Ave Max Wind Speed         300\n",
       "Hist Ave Visibility             300\n",
       "Sea Level Pressure                1\n",
       "Hist Ave Sea Level Pressure     300\n",
       "Day Length                        2\n",
       "Condition                         2\n",
       "Notes                           297\n",
       "dtype: int64"
      ]
     },
     "execution_count": 8,
     "metadata": {},
     "output_type": "execute_result"
    }
   ],
   "source": [
    "launch_data.isnull().sum()"
   ]
  },
  {
   "cell_type": "code",
   "execution_count": 9,
   "metadata": {},
   "outputs": [],
   "source": [
    "launch_data.drop(['Name','Date','Time (East Coast)','Location','Notes','Day Length','Sea Level Pressure'],axis=1,inplace=True)"
   ]
  },
  {
   "cell_type": "code",
   "execution_count": 10,
   "metadata": {},
   "outputs": [
    {
     "name": "stdout",
     "output_type": "stream",
     "text": [
      "<class 'pandas.core.frame.DataFrame'>\n",
      "RangeIndex: 300 entries, 0 to 299\n",
      "Data columns (total 19 columns):\n",
      " #   Column                        Non-Null Count  Dtype  \n",
      "---  ------                        --------------  -----  \n",
      " 0   Crewed or Uncrewed            60 non-null     object \n",
      " 1   Launched?                     60 non-null     object \n",
      " 2   High Temp                     299 non-null    float64\n",
      " 3   Low Temp                      299 non-null    float64\n",
      " 4   Ave Temp                      299 non-null    float64\n",
      " 5   Temp at Launch Time           59 non-null     float64\n",
      " 6   Hist High Temp                299 non-null    float64\n",
      " 7   Hist Low Temp                 299 non-null    float64\n",
      " 8   Hist Ave Temp                 299 non-null    float64\n",
      " 9   Percipitation at Launch Time  299 non-null    float64\n",
      " 10  Hist Ave Percipitation        299 non-null    float64\n",
      " 11  Wind Direction                299 non-null    object \n",
      " 12  Max Wind Speed                299 non-null    float64\n",
      " 13  Visibility                    299 non-null    float64\n",
      " 14  Wind Speed at Launch Time     59 non-null     float64\n",
      " 15  Hist Ave Max Wind Speed       0 non-null      float64\n",
      " 16  Hist Ave Visibility           0 non-null      float64\n",
      " 17  Hist Ave Sea Level Pressure   0 non-null      float64\n",
      " 18  Condition                     298 non-null    object \n",
      "dtypes: float64(15), object(4)\n",
      "memory usage: 44.7+ KB\n"
     ]
    }
   ],
   "source": [
    "launch_data.info()"
   ]
  },
  {
   "cell_type": "code",
   "execution_count": 11,
   "metadata": {},
   "outputs": [],
   "source": [
    "launch_data.drop(['Hist Ave Max Wind Speed','Hist Ave Visibility','Hist Ave Sea Level Pressure'],axis=1,inplace=True)"
   ]
  },
  {
   "cell_type": "code",
   "execution_count": 12,
   "metadata": {},
   "outputs": [
    {
     "name": "stdout",
     "output_type": "stream",
     "text": [
      "<class 'pandas.core.frame.DataFrame'>\n",
      "RangeIndex: 300 entries, 0 to 299\n",
      "Data columns (total 16 columns):\n",
      " #   Column                        Non-Null Count  Dtype  \n",
      "---  ------                        --------------  -----  \n",
      " 0   Crewed or Uncrewed            60 non-null     object \n",
      " 1   Launched?                     60 non-null     object \n",
      " 2   High Temp                     299 non-null    float64\n",
      " 3   Low Temp                      299 non-null    float64\n",
      " 4   Ave Temp                      299 non-null    float64\n",
      " 5   Temp at Launch Time           59 non-null     float64\n",
      " 6   Hist High Temp                299 non-null    float64\n",
      " 7   Hist Low Temp                 299 non-null    float64\n",
      " 8   Hist Ave Temp                 299 non-null    float64\n",
      " 9   Percipitation at Launch Time  299 non-null    float64\n",
      " 10  Hist Ave Percipitation        299 non-null    float64\n",
      " 11  Wind Direction                299 non-null    object \n",
      " 12  Max Wind Speed                299 non-null    float64\n",
      " 13  Visibility                    299 non-null    float64\n",
      " 14  Wind Speed at Launch Time     59 non-null     float64\n",
      " 15  Condition                     298 non-null    object \n",
      "dtypes: float64(12), object(4)\n",
      "memory usage: 37.6+ KB\n"
     ]
    }
   ],
   "source": [
    "launch_data.info()"
   ]
  },
  {
   "cell_type": "code",
   "execution_count": 13,
   "metadata": {},
   "outputs": [],
   "source": [
    "launch_data['Launched?'].fillna('X',inplace=True)\n",
    "launch_data['Crewed or Uncrewed'].fillna('unknown',inplace=True)\n",
    "launch_data['Wind Direction'].fillna('unknown',inplace=True)\n",
    "launch_data['Condition'].fillna('unknown',inplace=True)"
   ]
  },
  {
   "cell_type": "code",
   "execution_count": 14,
   "metadata": {},
   "outputs": [
    {
     "name": "stdout",
     "output_type": "stream",
     "text": [
      "<class 'pandas.core.frame.DataFrame'>\n",
      "RangeIndex: 300 entries, 0 to 299\n",
      "Data columns (total 16 columns):\n",
      " #   Column                        Non-Null Count  Dtype  \n",
      "---  ------                        --------------  -----  \n",
      " 0   Crewed or Uncrewed            300 non-null    object \n",
      " 1   Launched?                     300 non-null    object \n",
      " 2   High Temp                     299 non-null    float64\n",
      " 3   Low Temp                      299 non-null    float64\n",
      " 4   Ave Temp                      299 non-null    float64\n",
      " 5   Temp at Launch Time           59 non-null     float64\n",
      " 6   Hist High Temp                299 non-null    float64\n",
      " 7   Hist Low Temp                 299 non-null    float64\n",
      " 8   Hist Ave Temp                 299 non-null    float64\n",
      " 9   Percipitation at Launch Time  299 non-null    float64\n",
      " 10  Hist Ave Percipitation        299 non-null    float64\n",
      " 11  Wind Direction                300 non-null    object \n",
      " 12  Max Wind Speed                299 non-null    float64\n",
      " 13  Visibility                    299 non-null    float64\n",
      " 14  Wind Speed at Launch Time     59 non-null     float64\n",
      " 15  Condition                     300 non-null    object \n",
      "dtypes: float64(12), object(4)\n",
      "memory usage: 37.6+ KB\n"
     ]
    }
   ],
   "source": [
    "launch_data.info()"
   ]
  },
  {
   "cell_type": "code",
   "execution_count": 15,
   "metadata": {},
   "outputs": [],
   "source": [
    "label_encoder = preprocessing.LabelEncoder()\n",
    "\n",
    "launch_data['Wind Direction'] = label_encoder.fit_transform(launch_data['Wind Direction'])\n",
    "launch_data['Launched?'] = label_encoder.fit_transform(launch_data['Launched?'])\n",
    "launch_data['Crewed or Uncrewed'] = label_encoder.fit_transform(launch_data['Crewed or Uncrewed'])\n",
    "launch_data['Condition'] = label_encoder.fit_transform(launch_data['Condition'])"
   ]
  },
  {
   "cell_type": "code",
   "execution_count": 16,
   "metadata": {},
   "outputs": [
    {
     "name": "stdout",
     "output_type": "stream",
     "text": [
      "<class 'pandas.core.frame.DataFrame'>\n",
      "RangeIndex: 300 entries, 0 to 299\n",
      "Data columns (total 16 columns):\n",
      " #   Column                        Non-Null Count  Dtype  \n",
      "---  ------                        --------------  -----  \n",
      " 0   Crewed or Uncrewed            300 non-null    int32  \n",
      " 1   Launched?                     300 non-null    int32  \n",
      " 2   High Temp                     299 non-null    float64\n",
      " 3   Low Temp                      299 non-null    float64\n",
      " 4   Ave Temp                      299 non-null    float64\n",
      " 5   Temp at Launch Time           59 non-null     float64\n",
      " 6   Hist High Temp                299 non-null    float64\n",
      " 7   Hist Low Temp                 299 non-null    float64\n",
      " 8   Hist Ave Temp                 299 non-null    float64\n",
      " 9   Percipitation at Launch Time  299 non-null    float64\n",
      " 10  Hist Ave Percipitation        299 non-null    float64\n",
      " 11  Wind Direction                300 non-null    int32  \n",
      " 12  Max Wind Speed                299 non-null    float64\n",
      " 13  Visibility                    299 non-null    float64\n",
      " 14  Wind Speed at Launch Time     59 non-null     float64\n",
      " 15  Condition                     300 non-null    int32  \n",
      "dtypes: float64(12), int32(4)\n",
      "memory usage: 32.9 KB\n"
     ]
    }
   ],
   "source": [
    "launch_data.info()"
   ]
  },
  {
   "cell_type": "code",
   "execution_count": 17,
   "metadata": {},
   "outputs": [
    {
     "data": {
      "text/html": [
       "<div>\n",
       "<style scoped>\n",
       "    .dataframe tbody tr th:only-of-type {\n",
       "        vertical-align: middle;\n",
       "    }\n",
       "\n",
       "    .dataframe tbody tr th {\n",
       "        vertical-align: top;\n",
       "    }\n",
       "\n",
       "    .dataframe thead th {\n",
       "        text-align: right;\n",
       "    }\n",
       "</style>\n",
       "<table border=\"1\" class=\"dataframe\">\n",
       "  <thead>\n",
       "    <tr style=\"text-align: right;\">\n",
       "      <th></th>\n",
       "      <th>Crewed or Uncrewed</th>\n",
       "      <th>Launched?</th>\n",
       "      <th>High Temp</th>\n",
       "      <th>Low Temp</th>\n",
       "      <th>Ave Temp</th>\n",
       "      <th>Temp at Launch Time</th>\n",
       "      <th>Hist High Temp</th>\n",
       "      <th>Hist Low Temp</th>\n",
       "      <th>Hist Ave Temp</th>\n",
       "      <th>Percipitation at Launch Time</th>\n",
       "      <th>Hist Ave Percipitation</th>\n",
       "      <th>Wind Direction</th>\n",
       "      <th>Max Wind Speed</th>\n",
       "      <th>Visibility</th>\n",
       "      <th>Wind Speed at Launch Time</th>\n",
       "      <th>Condition</th>\n",
       "    </tr>\n",
       "  </thead>\n",
       "  <tbody>\n",
       "    <tr>\n",
       "      <th>0</th>\n",
       "      <td>2</td>\n",
       "      <td>1</td>\n",
       "      <td>75.0</td>\n",
       "      <td>68.0</td>\n",
       "      <td>71.00</td>\n",
       "      <td>NaN</td>\n",
       "      <td>75.0</td>\n",
       "      <td>55.0</td>\n",
       "      <td>65.0</td>\n",
       "      <td>0.0</td>\n",
       "      <td>0.08</td>\n",
       "      <td>0</td>\n",
       "      <td>16.0</td>\n",
       "      <td>15.0</td>\n",
       "      <td>NaN</td>\n",
       "      <td>0</td>\n",
       "    </tr>\n",
       "    <tr>\n",
       "      <th>1</th>\n",
       "      <td>2</td>\n",
       "      <td>1</td>\n",
       "      <td>78.0</td>\n",
       "      <td>70.0</td>\n",
       "      <td>73.39</td>\n",
       "      <td>NaN</td>\n",
       "      <td>75.0</td>\n",
       "      <td>55.0</td>\n",
       "      <td>65.0</td>\n",
       "      <td>0.0</td>\n",
       "      <td>0.09</td>\n",
       "      <td>0</td>\n",
       "      <td>14.0</td>\n",
       "      <td>10.0</td>\n",
       "      <td>NaN</td>\n",
       "      <td>0</td>\n",
       "    </tr>\n",
       "    <tr>\n",
       "      <th>2</th>\n",
       "      <td>1</td>\n",
       "      <td>2</td>\n",
       "      <td>73.0</td>\n",
       "      <td>0.0</td>\n",
       "      <td>60.21</td>\n",
       "      <td>62.0</td>\n",
       "      <td>75.0</td>\n",
       "      <td>55.0</td>\n",
       "      <td>65.0</td>\n",
       "      <td>0.0</td>\n",
       "      <td>0.09</td>\n",
       "      <td>2</td>\n",
       "      <td>15.0</td>\n",
       "      <td>10.0</td>\n",
       "      <td>11.0</td>\n",
       "      <td>0</td>\n",
       "    </tr>\n",
       "    <tr>\n",
       "      <th>3</th>\n",
       "      <td>2</td>\n",
       "      <td>1</td>\n",
       "      <td>76.0</td>\n",
       "      <td>57.0</td>\n",
       "      <td>66.04</td>\n",
       "      <td>NaN</td>\n",
       "      <td>75.0</td>\n",
       "      <td>55.0</td>\n",
       "      <td>65.0</td>\n",
       "      <td>0.0</td>\n",
       "      <td>0.08</td>\n",
       "      <td>1</td>\n",
       "      <td>10.0</td>\n",
       "      <td>10.0</td>\n",
       "      <td>NaN</td>\n",
       "      <td>6</td>\n",
       "    </tr>\n",
       "    <tr>\n",
       "      <th>4</th>\n",
       "      <td>2</td>\n",
       "      <td>1</td>\n",
       "      <td>79.0</td>\n",
       "      <td>60.0</td>\n",
       "      <td>70.52</td>\n",
       "      <td>NaN</td>\n",
       "      <td>75.0</td>\n",
       "      <td>55.0</td>\n",
       "      <td>65.0</td>\n",
       "      <td>0.0</td>\n",
       "      <td>0.09</td>\n",
       "      <td>0</td>\n",
       "      <td>12.0</td>\n",
       "      <td>10.0</td>\n",
       "      <td>NaN</td>\n",
       "      <td>6</td>\n",
       "    </tr>\n",
       "  </tbody>\n",
       "</table>\n",
       "</div>"
      ],
      "text/plain": [
       "   Crewed or Uncrewed  Launched?  High Temp  Low Temp  Ave Temp  \\\n",
       "0                   2          1       75.0      68.0     71.00   \n",
       "1                   2          1       78.0      70.0     73.39   \n",
       "2                   1          2       73.0       0.0     60.21   \n",
       "3                   2          1       76.0      57.0     66.04   \n",
       "4                   2          1       79.0      60.0     70.52   \n",
       "\n",
       "   Temp at Launch Time  Hist High Temp  Hist Low Temp  Hist Ave Temp  \\\n",
       "0                  NaN            75.0           55.0           65.0   \n",
       "1                  NaN            75.0           55.0           65.0   \n",
       "2                 62.0            75.0           55.0           65.0   \n",
       "3                  NaN            75.0           55.0           65.0   \n",
       "4                  NaN            75.0           55.0           65.0   \n",
       "\n",
       "   Percipitation at Launch Time  Hist Ave Percipitation  Wind Direction  \\\n",
       "0                           0.0                    0.08               0   \n",
       "1                           0.0                    0.09               0   \n",
       "2                           0.0                    0.09               2   \n",
       "3                           0.0                    0.08               1   \n",
       "4                           0.0                    0.09               0   \n",
       "\n",
       "   Max Wind Speed  Visibility  Wind Speed at Launch Time  Condition  \n",
       "0            16.0        15.0                        NaN          0  \n",
       "1            14.0        10.0                        NaN          0  \n",
       "2            15.0        10.0                       11.0          0  \n",
       "3            10.0        10.0                        NaN          6  \n",
       "4            12.0        10.0                        NaN          6  "
      ]
     },
     "execution_count": 17,
     "metadata": {},
     "output_type": "execute_result"
    }
   ],
   "source": [
    "launch_data.head()"
   ]
  },
  {
   "cell_type": "code",
   "execution_count": 18,
   "metadata": {},
   "outputs": [
    {
     "data": {
      "text/plain": [
       "Crewed or Uncrewed               2.00\n",
       "Launched?                        1.00\n",
       "High Temp                       82.00\n",
       "Low Temp                        51.00\n",
       "Ave Temp                        71.61\n",
       "Temp at Launch Time             77.00\n",
       "Hist High Temp                  82.00\n",
       "Hist Low Temp                   64.00\n",
       "Hist Ave Temp                   72.00\n",
       "Percipitation at Launch Time     0.00\n",
       "Hist Ave Percipitation           0.11\n",
       "Wind Direction                   3.00\n",
       "Max Wind Speed                  16.00\n",
       "Visibility                      10.00\n",
       "Wind Speed at Launch Time       10.00\n",
       "Condition                        1.00\n",
       "dtype: float64"
      ]
     },
     "execution_count": 18,
     "metadata": {},
     "output_type": "execute_result"
    }
   ],
   "source": [
    "launch_data.median()"
   ]
  },
  {
   "cell_type": "code",
   "execution_count": 19,
   "metadata": {},
   "outputs": [],
   "source": [
    "launch_data = launch_data.apply(lambda x: x.fillna(x.median()),axis=0)"
   ]
  },
  {
   "cell_type": "code",
   "execution_count": 20,
   "metadata": {},
   "outputs": [
    {
     "name": "stdout",
     "output_type": "stream",
     "text": [
      "<class 'pandas.core.frame.DataFrame'>\n",
      "RangeIndex: 300 entries, 0 to 299\n",
      "Data columns (total 16 columns):\n",
      " #   Column                        Non-Null Count  Dtype  \n",
      "---  ------                        --------------  -----  \n",
      " 0   Crewed or Uncrewed            300 non-null    int32  \n",
      " 1   Launched?                     300 non-null    int32  \n",
      " 2   High Temp                     300 non-null    float64\n",
      " 3   Low Temp                      300 non-null    float64\n",
      " 4   Ave Temp                      300 non-null    float64\n",
      " 5   Temp at Launch Time           300 non-null    float64\n",
      " 6   Hist High Temp                300 non-null    float64\n",
      " 7   Hist Low Temp                 300 non-null    float64\n",
      " 8   Hist Ave Temp                 300 non-null    float64\n",
      " 9   Percipitation at Launch Time  300 non-null    float64\n",
      " 10  Hist Ave Percipitation        300 non-null    float64\n",
      " 11  Wind Direction                300 non-null    int32  \n",
      " 12  Max Wind Speed                300 non-null    float64\n",
      " 13  Visibility                    300 non-null    float64\n",
      " 14  Wind Speed at Launch Time     300 non-null    float64\n",
      " 15  Condition                     300 non-null    int32  \n",
      "dtypes: float64(12), int32(4)\n",
      "memory usage: 32.9 KB\n"
     ]
    }
   ],
   "source": [
    "launch_data.info()"
   ]
  },
  {
   "cell_type": "code",
   "execution_count": 21,
   "metadata": {},
   "outputs": [
    {
     "data": {
      "image/png": "[encoded data removed]",
      "text/plain": [
       "<Figure size 1512x1512 with 2 Axes>"
      ]
     },
     "metadata": {
      "needs_background": "light"
     },
     "output_type": "display_data"
    }
   ],
   "source": [
    "plt.figure(figsize=(21,21))\n",
    "sns.heatmap(launch_data.corr(), annot=True, cmap='YlGnBu');\n",
    "plt.show()"
   ]
  },
  {
   "cell_type": "code",
   "execution_count": 22,
   "metadata": {},
   "outputs": [],
   "source": [
    "launch_data.drop(['Hist Low Temp','Wind Speed at Launch Time'],axis=1,inplace=True)"
   ]
  },
  {
   "cell_type": "code",
   "execution_count": 23,
   "metadata": {},
   "outputs": [
    {
     "data": {
      "image/png": "[encoded data removed]",
      "text/plain": [
       "<Figure size 432x288 with 1 Axes>"
      ]
     },
     "metadata": {
      "needs_background": "light"
     },
     "output_type": "display_data"
    }
   ],
   "source": [
    "sns.boxplot(x=launch_data['High Temp']);\n",
    "plt.show()"
   ]
  },
  {
   "cell_type": "code",
   "execution_count": 24,
   "metadata": {},
   "outputs": [
    {
     "data": {
      "text/plain": [
       "<AxesSubplot:xlabel='Launched?', ylabel='High Temp'>"
      ]
     },
     "execution_count": 24,
     "metadata": {},
     "output_type": "execute_result"
    },
    {
     "data": {
      "image/png": "[encoded data removed]",
      "text/plain": [
       "<Figure size 432x288 with 1 Axes>"
      ]
     },
     "metadata": {
      "needs_background": "light"
     },
     "output_type": "display_data"
    }
   ],
   "source": [
    "sns.boxplot(x=\"Launched?\", y=\"High Temp\", data=launch_data)"
   ]
  },
  {
   "cell_type": "code",
   "execution_count": 25,
   "metadata": {},
   "outputs": [],
   "source": [
    "dfw = launch_data['High Temp']\n",
    "dfw_Q1 = dfw.quantile(0.25)\n",
    "dfw_Q3 = dfw.quantile(0.75)\n",
    "dfw_IQR = dfw_Q3 - dfw_Q1\n",
    "dfw_lowerend = dfw_Q1 - (1.5 * dfw_IQR)\n",
    "dfw_upperend = dfw_Q3 + (1.5 * dfw_IQR)"
   ]
  },
  {
   "cell_type": "code",
   "execution_count": 26,
   "metadata": {},
   "outputs": [
    {
     "data": {
      "text/plain": [
       "38     58.0\n",
       "39     59.0\n",
       "45     54.0\n",
       "113    57.0\n",
       "114    52.0\n",
       "170    51.0\n",
       "171    55.0\n",
       "172    59.0\n",
       "209    60.0\n",
       "225    60.0\n",
       "Name: High Temp, dtype: float64"
      ]
     },
     "execution_count": 26,
     "metadata": {},
     "output_type": "execute_result"
    }
   ],
   "source": [
    "dfw_outliers = dfw[(dfw < dfw_lowerend) | (dfw > dfw_upperend)]\n",
    "dfw_outliers"
   ]
  },
  {
   "cell_type": "code",
   "execution_count": 27,
   "metadata": {},
   "outputs": [],
   "source": [
    "launch_data.drop([38,39,45,113,114,170,171,172,209,225],inplace=True)"
   ]
  },
  {
   "cell_type": "code",
   "execution_count": 28,
   "metadata": {},
   "outputs": [
    {
     "data": {
      "text/plain": [
       "<AxesSubplot:>"
      ]
     },
     "execution_count": 28,
     "metadata": {},
     "output_type": "execute_result"
    },
    {
     "data": {
      "image/png": "[encoded data removed]",
      "text/plain": [
       "<Figure size 432x288 with 1 Axes>"
      ]
     },
     "metadata": {
      "needs_background": "light"
     },
     "output_type": "display_data"
    }
   ],
   "source": [
    "launch_data['High Temp'].hist()"
   ]
  },
  {
   "cell_type": "code",
   "execution_count": 29,
   "metadata": {},
   "outputs": [
    {
     "data": {
      "text/html": [
       "<div>\n",
       "<style scoped>\n",
       "    .dataframe tbody tr th:only-of-type {\n",
       "        vertical-align: middle;\n",
       "    }\n",
       "\n",
       "    .dataframe tbody tr th {\n",
       "        vertical-align: top;\n",
       "    }\n",
       "\n",
       "    .dataframe thead th {\n",
       "        text-align: right;\n",
       "    }\n",
       "</style>\n",
       "<table border=\"1\" class=\"dataframe\">\n",
       "  <thead>\n",
       "    <tr style=\"text-align: right;\">\n",
       "      <th></th>\n",
       "      <th>Crewed or Uncrewed</th>\n",
       "      <th>Launched?</th>\n",
       "      <th>High Temp</th>\n",
       "      <th>Low Temp</th>\n",
       "      <th>Ave Temp</th>\n",
       "      <th>Temp at Launch Time</th>\n",
       "      <th>Hist High Temp</th>\n",
       "      <th>Hist Ave Temp</th>\n",
       "      <th>Percipitation at Launch Time</th>\n",
       "      <th>Hist Ave Percipitation</th>\n",
       "      <th>Wind Direction</th>\n",
       "      <th>Max Wind Speed</th>\n",
       "      <th>Visibility</th>\n",
       "      <th>Condition</th>\n",
       "    </tr>\n",
       "  </thead>\n",
       "  <tbody>\n",
       "    <tr>\n",
       "      <th>0</th>\n",
       "      <td>2</td>\n",
       "      <td>1</td>\n",
       "      <td>75.0</td>\n",
       "      <td>68.0</td>\n",
       "      <td>71.00</td>\n",
       "      <td>77.0</td>\n",
       "      <td>75.0</td>\n",
       "      <td>65.0</td>\n",
       "      <td>0.0</td>\n",
       "      <td>0.08</td>\n",
       "      <td>0</td>\n",
       "      <td>16.0</td>\n",
       "      <td>15.0</td>\n",
       "      <td>0</td>\n",
       "    </tr>\n",
       "    <tr>\n",
       "      <th>1</th>\n",
       "      <td>2</td>\n",
       "      <td>1</td>\n",
       "      <td>78.0</td>\n",
       "      <td>70.0</td>\n",
       "      <td>73.39</td>\n",
       "      <td>77.0</td>\n",
       "      <td>75.0</td>\n",
       "      <td>65.0</td>\n",
       "      <td>0.0</td>\n",
       "      <td>0.09</td>\n",
       "      <td>0</td>\n",
       "      <td>14.0</td>\n",
       "      <td>10.0</td>\n",
       "      <td>0</td>\n",
       "    </tr>\n",
       "    <tr>\n",
       "      <th>2</th>\n",
       "      <td>1</td>\n",
       "      <td>2</td>\n",
       "      <td>73.0</td>\n",
       "      <td>0.0</td>\n",
       "      <td>60.21</td>\n",
       "      <td>62.0</td>\n",
       "      <td>75.0</td>\n",
       "      <td>65.0</td>\n",
       "      <td>0.0</td>\n",
       "      <td>0.09</td>\n",
       "      <td>2</td>\n",
       "      <td>15.0</td>\n",
       "      <td>10.0</td>\n",
       "      <td>0</td>\n",
       "    </tr>\n",
       "    <tr>\n",
       "      <th>3</th>\n",
       "      <td>2</td>\n",
       "      <td>1</td>\n",
       "      <td>76.0</td>\n",
       "      <td>57.0</td>\n",
       "      <td>66.04</td>\n",
       "      <td>77.0</td>\n",
       "      <td>75.0</td>\n",
       "      <td>65.0</td>\n",
       "      <td>0.0</td>\n",
       "      <td>0.08</td>\n",
       "      <td>1</td>\n",
       "      <td>10.0</td>\n",
       "      <td>10.0</td>\n",
       "      <td>6</td>\n",
       "    </tr>\n",
       "    <tr>\n",
       "      <th>4</th>\n",
       "      <td>2</td>\n",
       "      <td>1</td>\n",
       "      <td>79.0</td>\n",
       "      <td>60.0</td>\n",
       "      <td>70.52</td>\n",
       "      <td>77.0</td>\n",
       "      <td>75.0</td>\n",
       "      <td>65.0</td>\n",
       "      <td>0.0</td>\n",
       "      <td>0.09</td>\n",
       "      <td>0</td>\n",
       "      <td>12.0</td>\n",
       "      <td>10.0</td>\n",
       "      <td>6</td>\n",
       "    </tr>\n",
       "  </tbody>\n",
       "</table>\n",
       "</div>"
      ],
      "text/plain": [
       "   Crewed or Uncrewed  Launched?  High Temp  Low Temp  Ave Temp  \\\n",
       "0                   2          1       75.0      68.0     71.00   \n",
       "1                   2          1       78.0      70.0     73.39   \n",
       "2                   1          2       73.0       0.0     60.21   \n",
       "3                   2          1       76.0      57.0     66.04   \n",
       "4                   2          1       79.0      60.0     70.52   \n",
       "\n",
       "   Temp at Launch Time  Hist High Temp  Hist Ave Temp  \\\n",
       "0                 77.0            75.0           65.0   \n",
       "1                 77.0            75.0           65.0   \n",
       "2                 62.0            75.0           65.0   \n",
       "3                 77.0            75.0           65.0   \n",
       "4                 77.0            75.0           65.0   \n",
       "\n",
       "   Percipitation at Launch Time  Hist Ave Percipitation  Wind Direction  \\\n",
       "0                           0.0                    0.08               0   \n",
       "1                           0.0                    0.09               0   \n",
       "2                           0.0                    0.09               2   \n",
       "3                           0.0                    0.08               1   \n",
       "4                           0.0                    0.09               0   \n",
       "\n",
       "   Max Wind Speed  Visibility  Condition  \n",
       "0            16.0        15.0          0  \n",
       "1            14.0        10.0          0  \n",
       "2            15.0        10.0          0  \n",
       "3            10.0        10.0          6  \n",
       "4            12.0        10.0          6  "
      ]
     },
     "execution_count": 29,
     "metadata": {},
     "output_type": "execute_result"
    }
   ],
   "source": [
    "launch_data.head()"
   ]
  },
  {
   "cell_type": "code",
   "execution_count": 30,
   "metadata": {},
   "outputs": [],
   "source": [
    "X = launch_data.loc[:,launch_data.columns!=\"Launched?\"]"
   ]
  },
  {
   "cell_type": "code",
   "execution_count": 31,
   "metadata": {},
   "outputs": [],
   "source": [
    "y = launch_data[\"Launched?\"]"
   ]
  },
  {
   "cell_type": "code",
   "execution_count": 32,
   "metadata": {},
   "outputs": [],
   "source": [
    "from sklearn.model_selection import train_test_split"
   ]
  },
  {
   "cell_type": "code",
   "execution_count": 33,
   "metadata": {},
   "outputs": [],
   "source": [
    "X_train, X_test, y_train, y_test = train_test_split(X, y,test_size=0.2,random_state=0)"
   ]
  },
  {
   "cell_type": "code",
   "execution_count": 34,
   "metadata": {},
   "outputs": [
    {
     "data": {
      "text/plain": [
       "(232, 13)"
      ]
     },
     "execution_count": 34,
     "metadata": {},
     "output_type": "execute_result"
    }
   ],
   "source": [
    "X_train.shape"
   ]
  },
  {
   "cell_type": "code",
   "execution_count": 35,
   "metadata": {},
   "outputs": [
    {
     "data": {
      "text/plain": [
       "(58, 13)"
      ]
     },
     "execution_count": 35,
     "metadata": {},
     "output_type": "execute_result"
    }
   ],
   "source": [
    "X_test.shape"
   ]
  },
  {
   "cell_type": "code",
   "execution_count": 36,
   "metadata": {},
   "outputs": [],
   "source": [
    "from sklearn.ensemble import RandomForestClassifier"
   ]
  },
  {
   "cell_type": "code",
   "execution_count": 37,
   "metadata": {},
   "outputs": [],
   "source": [
    "rf_clf = RandomForestClassifier(n_estimators=1000, n_jobs=-1 ,random_state=42)"
   ]
  },
  {
   "cell_type": "code",
   "execution_count": 38,
   "metadata": {},
   "outputs": [
    {
     "data": {
      "text/plain": [
       "RandomForestClassifier(n_estimators=1000, n_jobs=-1, random_state=42)"
      ]
     },
     "execution_count": 38,
     "metadata": {},
     "output_type": "execute_result"
    }
   ],
   "source": [
    "rf_clf.fit(X_train, y_train)"
   ]
  },
  {
   "cell_type": "code",
   "execution_count": 39,
   "metadata": {},
   "outputs": [],
   "source": [
    "from sklearn.metrics import accuracy_score, confusion_matrix"
   ]
  },
  {
   "cell_type": "code",
   "execution_count": 40,
   "metadata": {},
   "outputs": [
    {
     "data": {
      "text/plain": [
       "array([[ 0,  0,  1],\n",
       "       [ 0, 45,  0],\n",
       "       [ 0,  0, 12]], dtype=int64)"
      ]
     },
     "execution_count": 40,
     "metadata": {},
     "output_type": "execute_result"
    }
   ],
   "source": [
    "confusion_matrix(y_test, rf_clf.predict(X_test))"
   ]
  },
  {
   "cell_type": "code",
   "execution_count": 41,
   "metadata": {},
   "outputs": [
    {
     "data": {
      "text/plain": [
       "0.9827586206896551"
      ]
     },
     "execution_count": 41,
     "metadata": {},
     "output_type": "execute_result"
    }
   ],
   "source": [
    "accuracy_score(y_test, rf_clf.predict(X_test))"
   ]
  },
  {
   "cell_type": "code",
   "execution_count": 42,
   "metadata": {},
   "outputs": [],
   "source": [
    "import pickle"
   ]
  },
  {
   "cell_type": "code",
   "execution_count": 43,
   "metadata": {},
   "outputs": [],
   "source": [
    "pickle.dump(rf_clf,open('Weather_analysis.pkl','wb'))"
   ]
  },
  {
   "cell_type": "code",
   "execution_count": null,
   "metadata": {},
   "outputs": [],
   "source": []
  }
 ],
 "metadata": {
  "kernelspec": {
   "display_name": "Python 3 (ipykernel)",
   "language": "python",
   "name": "python3"
  },
  "language_info": {
   "codemirror_mode": {
    "name": "ipython",
    "version": 3
   },
   "file_extension": ".py",
   "mimetype": "text/x-python",
   "name": "python",
   "nbconvert_exporter": "python",
   "pygments_lexer": "ipython3",
   "version": "3.9.7"
  }
 },
 "nbformat": 4,
 "nbformat_minor": 4
}
