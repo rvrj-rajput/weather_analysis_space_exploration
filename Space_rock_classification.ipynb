{
 "cells": [
  {
   "cell_type": "code",
   "execution_count": 1,
   "id": "c59cc0fc",
   "metadata": {},
   "outputs": [],
   "source": [
    "import numpy as np\n",
    "import pandas as pd\n",
    "%matplotlib inline\n",
    "import matplotlib as mpl\n",
    "import matplotlib.pyplot as plt\n",
    "import os"
   ]
  },
  {
   "cell_type": "code",
   "execution_count": 2,
   "id": "22057213",
   "metadata": {},
   "outputs": [],
   "source": [
    "import tensorflow as tf\n",
    "from tensorflow import keras"
   ]
  },
  {
   "cell_type": "code",
   "execution_count": 3,
   "id": "99a03a3e",
   "metadata": {},
   "outputs": [],
   "source": [
    "train_dir = r'E:\\AI_ML\\ML\\Weather_analysis\\rocks'"
   ]
  },
  {
   "cell_type": "code",
   "execution_count": 4,
   "id": "454ef574",
   "metadata": {},
   "outputs": [],
   "source": [
    "from tensorflow.keras.preprocessing.image import ImageDataGenerator"
   ]
  },
  {
   "cell_type": "code",
   "execution_count": 5,
   "id": "e5ba6fc1",
   "metadata": {},
   "outputs": [
    {
     "name": "stdout",
     "output_type": "stream",
     "text": [
      "Found 2224 images belonging to 8 classes.\n"
     ]
    }
   ],
   "source": [
    "train_datagen = ImageDataGenerator(\n",
    "    rescale=1./255,\n",
    "    rotation_range=40,\n",
    "    width_shift_range=0.2,\n",
    "    height_shift_range=0.2,\n",
    "    shear_range=0.2,\n",
    "    zoom_range=0.2,\n",
    "    horizontal_flip=True)\n",
    "\n",
    "#test_datagen = ImageDataGenerator(rescale=1./255)\n",
    "\n",
    "train_generator = train_datagen.flow_from_directory(\n",
    "        train_dir,\n",
    "        target_size=(150, 150),\n",
    "        batch_size=20,\n",
    "        class_mode='binary'\n",
    "        )\n",
    "\n",
    "#validation_generator = test_datagen.flow_from_directory(\n",
    "#        validation_dir,\n",
    "#        target_size=(250, 250),\n",
    "#        batch_size=20,\n",
    "#        class_mode='binary'\n",
    "#        )"
   ]
  },
  {
   "cell_type": "code",
   "execution_count": null,
   "id": "8af6a2ef",
   "metadata": {},
   "outputs": [],
   "source": []
  },
  {
   "cell_type": "code",
   "execution_count": 6,
   "id": "c6e8f3bc",
   "metadata": {},
   "outputs": [],
   "source": [
    "from tensorflow.keras.applications import VGG16\n",
    "\n",
    "conv_base = VGG16(weights='imagenet',\n",
    "                  include_top=False,\n",
    "                  input_shape=(150, 150, 3))"
   ]
  },
  {
   "cell_type": "code",
   "execution_count": 7,
   "id": "72fff6f5",
   "metadata": {},
   "outputs": [
    {
     "name": "stdout",
     "output_type": "stream",
     "text": [
      "Model: \"vgg16\"\n",
      "_________________________________________________________________\n",
      " Layer (type)                Output Shape              Param #   \n",
      "=================================================================\n",
      " input_1 (InputLayer)        [(None, 150, 150, 3)]     0         \n",
      "                                                                 \n",
      " block1_conv1 (Conv2D)       (None, 150, 150, 64)      1792      \n",
      "                                                                 \n",
      " block1_conv2 (Conv2D)       (None, 150, 150, 64)      36928     \n",
      "                                                                 \n",
      " block1_pool (MaxPooling2D)  (None, 75, 75, 64)        0         \n",
      "                                                                 \n",
      " block2_conv1 (Conv2D)       (None, 75, 75, 128)       73856     \n",
      "                                                                 \n",
      " block2_conv2 (Conv2D)       (None, 75, 75, 128)       147584    \n",
      "                                                                 \n",
      " block2_pool (MaxPooling2D)  (None, 37, 37, 128)       0         \n",
      "                                                                 \n",
      " block3_conv1 (Conv2D)       (None, 37, 37, 256)       295168    \n",
      "                                                                 \n",
      " block3_conv2 (Conv2D)       (None, 37, 37, 256)       590080    \n",
      "                                                                 \n",
      " block3_conv3 (Conv2D)       (None, 37, 37, 256)       590080    \n",
      "                                                                 \n",
      " block3_pool (MaxPooling2D)  (None, 18, 18, 256)       0         \n",
      "                                                                 \n",
      " block4_conv1 (Conv2D)       (None, 18, 18, 512)       1180160   \n",
      "                                                                 \n",
      " block4_conv2 (Conv2D)       (None, 18, 18, 512)       2359808   \n",
      "                                                                 \n",
      " block4_conv3 (Conv2D)       (None, 18, 18, 512)       2359808   \n",
      "                                                                 \n",
      " block4_pool (MaxPooling2D)  (None, 9, 9, 512)         0         \n",
      "                                                                 \n",
      " block5_conv1 (Conv2D)       (None, 9, 9, 512)         2359808   \n",
      "                                                                 \n",
      " block5_conv2 (Conv2D)       (None, 9, 9, 512)         2359808   \n",
      "                                                                 \n",
      " block5_conv3 (Conv2D)       (None, 9, 9, 512)         2359808   \n",
      "                                                                 \n",
      " block5_pool (MaxPooling2D)  (None, 4, 4, 512)         0         \n",
      "                                                                 \n",
      "=================================================================\n",
      "Total params: 14,714,688\n",
      "Trainable params: 14,714,688\n",
      "Non-trainable params: 0\n",
      "_________________________________________________________________\n"
     ]
    }
   ],
   "source": [
    "conv_base.summary()"
   ]
  },
  {
   "cell_type": "code",
   "execution_count": 8,
   "id": "fea02465",
   "metadata": {},
   "outputs": [],
   "source": [
    "from tensorflow.keras import models\n",
    "from tensorflow.keras import layers\n",
    "\n",
    "model = models.Sequential()\n",
    "model.add(conv_base)\n",
    "model.add(layers.Flatten())\n",
    "model.add(layers.Dense(256, activation='relu'))\n",
    "model.add(layers.Dense(8, activation='softmax'))"
   ]
  },
  {
   "cell_type": "code",
   "execution_count": 9,
   "id": "03022d7d",
   "metadata": {},
   "outputs": [],
   "source": [
    "conv_base.trainable = False"
   ]
  },
  {
   "cell_type": "code",
   "execution_count": 10,
   "id": "b30114b2",
   "metadata": {},
   "outputs": [],
   "source": [
    "from tensorflow.keras import optimizers\n",
    "\n",
    "model.compile(loss='sparse_categorical_crossentropy',\n",
    "              optimizer='adam',\n",
    "              metrics=['acc'])"
   ]
  },
  {
   "cell_type": "code",
   "execution_count": 11,
   "id": "ad9f4d5e",
   "metadata": {},
   "outputs": [
    {
     "name": "stderr",
     "output_type": "stream",
     "text": [
      "C:\\Users\\ravir\\AppData\\Local\\Temp/ipykernel_23248/2462917492.py:1: UserWarning: `Model.fit_generator` is deprecated and will be removed in a future version. Please use `Model.fit`, which supports generators.\n",
      "  history = model.fit_generator(\n"
     ]
    },
    {
     "name": "stdout",
     "output_type": "stream",
     "text": [
      "Epoch 1/50\n",
      "111/111 [==============================] - 188s 2s/step - loss: 1.6953 - acc: 0.3956\n",
      "Epoch 2/50\n",
      "111/111 [==============================] - 197s 2s/step - loss: 1.3390 - acc: 0.5295\n",
      "Epoch 3/50\n",
      "111/111 [==============================] - 191s 2s/step - loss: 1.2866 - acc: 0.5259\n",
      "Epoch 4/50\n",
      "111/111 [==============================] - 185s 2s/step - loss: 1.1975 - acc: 0.5603\n",
      "Epoch 5/50\n",
      "111/111 [==============================] - 183s 2s/step - loss: 1.1659 - acc: 0.5712\n",
      "Epoch 6/50\n",
      "111/111 [==============================] - 190s 2s/step - loss: 1.1365 - acc: 0.5794\n",
      "Epoch 7/50\n",
      "111/111 [==============================] - 180s 2s/step - loss: 1.1002 - acc: 0.5889\n",
      "Epoch 8/50\n",
      "111/111 [==============================] - 193s 2s/step - loss: 1.0797 - acc: 0.6044\n",
      "Epoch 9/50\n",
      "111/111 [==============================] - 189s 2s/step - loss: 1.0119 - acc: 0.6320\n",
      "Epoch 10/50\n",
      "111/111 [==============================] - 203s 2s/step - loss: 1.0364 - acc: 0.6248\n",
      "Epoch 11/50\n",
      "111/111 [==============================] - 194s 2s/step - loss: 0.9963 - acc: 0.6248\n",
      "Epoch 12/50\n",
      "111/111 [==============================] - 187s 2s/step - loss: 0.9916 - acc: 0.6261\n",
      "Epoch 13/50\n",
      "111/111 [==============================] - 195s 2s/step - loss: 0.9692 - acc: 0.6443\n",
      "Epoch 14/50\n",
      "111/111 [==============================] - 198s 2s/step - loss: 0.9184 - acc: 0.6552\n",
      "Epoch 15/50\n",
      "111/111 [==============================] - 209s 2s/step - loss: 0.9008 - acc: 0.6631\n",
      "Epoch 16/50\n",
      "111/111 [==============================] - 196s 2s/step - loss: 0.8974 - acc: 0.6633\n",
      "Epoch 17/50\n",
      "111/111 [==============================] - 195s 2s/step - loss: 0.8989 - acc: 0.6770\n",
      "Epoch 18/50\n",
      "111/111 [==============================] - 199s 2s/step - loss: 0.8753 - acc: 0.6842\n",
      "Epoch 19/50\n",
      "111/111 [==============================] - 278s 3s/step - loss: 0.8825 - acc: 0.6706\n",
      "Epoch 20/50\n",
      "111/111 [==============================] - 292s 3s/step - loss: 0.8550 - acc: 0.6815\n",
      "Epoch 21/50\n",
      "111/111 [==============================] - 210s 2s/step - loss: 0.8185 - acc: 0.6956\n",
      "Epoch 22/50\n",
      "111/111 [==============================] - 216s 2s/step - loss: 0.8038 - acc: 0.7069\n",
      "Epoch 23/50\n",
      "111/111 [==============================] - 217s 2s/step - loss: 0.8070 - acc: 0.6960\n",
      "Epoch 24/50\n",
      "111/111 [==============================] - 212s 2s/step - loss: 0.7867 - acc: 0.7101\n",
      "Epoch 25/50\n",
      "111/111 [==============================] - 203s 2s/step - loss: 0.7768 - acc: 0.7169\n",
      "Epoch 26/50\n",
      "111/111 [==============================] - 202s 2s/step - loss: 0.7661 - acc: 0.7123\n",
      "Epoch 27/50\n",
      "111/111 [==============================] - 203s 2s/step - loss: 0.7864 - acc: 0.7064\n",
      "Epoch 28/50\n",
      "111/111 [==============================] - 211s 2s/step - loss: 0.8058 - acc: 0.6892\n",
      "Epoch 29/50\n",
      "111/111 [==============================] - 197s 2s/step - loss: 0.7497 - acc: 0.7214\n",
      "Epoch 30/50\n",
      "111/111 [==============================] - 193s 2s/step - loss: 0.7649 - acc: 0.7123\n",
      "Epoch 31/50\n",
      "111/111 [==============================] - 195s 2s/step - loss: 0.7649 - acc: 0.6978\n",
      "Epoch 32/50\n",
      "111/111 [==============================] - 195s 2s/step - loss: 0.7347 - acc: 0.7264\n",
      "Epoch 33/50\n",
      "111/111 [==============================] - 196s 2s/step - loss: 0.7456 - acc: 0.7205\n",
      "Epoch 34/50\n",
      "111/111 [==============================] - 204s 2s/step - loss: 0.7317 - acc: 0.7241\n",
      "Epoch 35/50\n",
      "111/111 [==============================] - 196s 2s/step - loss: 0.7434 - acc: 0.7323\n",
      "Epoch 36/50\n",
      "111/111 [==============================] - 192s 2s/step - loss: 0.7009 - acc: 0.7364\n",
      "Epoch 37/50\n",
      "111/111 [==============================] - 193s 2s/step - loss: 0.7255 - acc: 0.7250\n",
      "Epoch 38/50\n",
      "111/111 [==============================] - 194s 2s/step - loss: 0.7337 - acc: 0.7246\n",
      "Epoch 39/50\n",
      "111/111 [==============================] - 194s 2s/step - loss: 0.7083 - acc: 0.7350\n",
      "Epoch 40/50\n",
      "111/111 [==============================] - 193s 2s/step - loss: 0.6846 - acc: 0.7468\n",
      "Epoch 41/50\n",
      "111/111 [==============================] - 193s 2s/step - loss: 0.6826 - acc: 0.7350\n",
      "Epoch 42/50\n",
      "111/111 [==============================] - 193s 2s/step - loss: 0.6416 - acc: 0.7568\n",
      "Epoch 43/50\n",
      "111/111 [==============================] - 196s 2s/step - loss: 0.6539 - acc: 0.7659\n",
      "Epoch 44/50\n",
      "111/111 [==============================] - 190s 2s/step - loss: 0.6353 - acc: 0.7532\n",
      "Epoch 45/50\n",
      "111/111 [==============================] - 191s 2s/step - loss: 0.6253 - acc: 0.7586\n",
      "Epoch 46/50\n",
      "111/111 [==============================] - 190s 2s/step - loss: 0.6486 - acc: 0.7609\n",
      "Epoch 47/50\n",
      "111/111 [==============================] - 188s 2s/step - loss: 0.6148 - acc: 0.7686\n",
      "Epoch 48/50\n",
      "111/111 [==============================] - 194s 2s/step - loss: 0.6218 - acc: 0.7632\n",
      "Epoch 49/50\n",
      "111/111 [==============================] - 186s 2s/step - loss: 0.6058 - acc: 0.7740\n",
      "Epoch 50/50\n",
      "111/111 [==============================] - 181s 2s/step - loss: 0.6274 - acc: 0.7654\n"
     ]
    }
   ],
   "source": [
    "history = model.fit_generator(\n",
    "      train_generator,\n",
    "      steps_per_epoch=111,\n",
    "      epochs=50\n",
    "      )"
   ]
  },
  {
   "cell_type": "code",
   "execution_count": 12,
   "id": "f55a537e",
   "metadata": {},
   "outputs": [],
   "source": [
    "import pickle"
   ]
  },
  {
   "cell_type": "code",
   "execution_count": 14,
   "id": "78a56f6b",
   "metadata": {},
   "outputs": [
    {
     "name": "stderr",
     "output_type": "stream",
     "text": [
      "WARNING:absl:Found untraced functions such as _jit_compiled_convolution_op, _jit_compiled_convolution_op, _jit_compiled_convolution_op, _jit_compiled_convolution_op, _jit_compiled_convolution_op while saving (showing 5 of 13). These functions will not be directly callable after loading.\n"
     ]
    },
    {
     "name": "stdout",
     "output_type": "stream",
     "text": [
      "INFO:tensorflow:Assets written to: ram://e02fca69-4c70-4e95-8865-3219232466e8/assets\n"
     ]
    },
    {
     "name": "stderr",
     "output_type": "stream",
     "text": [
      "INFO:tensorflow:Assets written to: ram://e02fca69-4c70-4e95-8865-3219232466e8/assets\n"
     ]
    }
   ],
   "source": [
    "pickle.dump(model,open('space_rock.pkl','wb'))"
   ]
  },
  {
   "cell_type": "code",
   "execution_count": 22,
   "id": "a974f106",
   "metadata": {},
   "outputs": [],
   "source": [
    "test = r\"E:\\AI_ML\\ML\\Weather_analysis\\rocks\\Coal\\5.jpg\""
   ]
  },
  {
   "cell_type": "code",
   "execution_count": 25,
   "id": "0083cb29",
   "metadata": {},
   "outputs": [
    {
     "ename": "IndexError",
     "evalue": "tuple index out of range",
     "output_type": "error",
     "traceback": [
      "\u001b[1;31m---------------------------------------------------------------------------\u001b[0m",
      "\u001b[1;31mIndexError\u001b[0m                                Traceback (most recent call last)",
      "\u001b[1;32m~\\AppData\\Local\\Temp/ipykernel_23248/1575907947.py\u001b[0m in \u001b[0;36m<module>\u001b[1;34m\u001b[0m\n\u001b[1;32m----> 1\u001b[1;33m \u001b[0mmodel\u001b[0m\u001b[1;33m.\u001b[0m\u001b[0mpredict\u001b[0m\u001b[1;33m(\u001b[0m\u001b[0mtest\u001b[0m\u001b[1;33m)\u001b[0m\u001b[1;33m\u001b[0m\u001b[1;33m\u001b[0m\u001b[0m\n\u001b[0m",
      "\u001b[1;32m~\\anaconda3\\lib\\site-packages\\keras\\utils\\traceback_utils.py\u001b[0m in \u001b[0;36merror_handler\u001b[1;34m(*args, **kwargs)\u001b[0m\n\u001b[0;32m     65\u001b[0m     \u001b[1;32mexcept\u001b[0m \u001b[0mException\u001b[0m \u001b[1;32mas\u001b[0m \u001b[0me\u001b[0m\u001b[1;33m:\u001b[0m  \u001b[1;31m# pylint: disable=broad-except\u001b[0m\u001b[1;33m\u001b[0m\u001b[1;33m\u001b[0m\u001b[0m\n\u001b[0;32m     66\u001b[0m       \u001b[0mfiltered_tb\u001b[0m \u001b[1;33m=\u001b[0m \u001b[0m_process_traceback_frames\u001b[0m\u001b[1;33m(\u001b[0m\u001b[0me\u001b[0m\u001b[1;33m.\u001b[0m\u001b[0m__traceback__\u001b[0m\u001b[1;33m)\u001b[0m\u001b[1;33m\u001b[0m\u001b[1;33m\u001b[0m\u001b[0m\n\u001b[1;32m---> 67\u001b[1;33m       \u001b[1;32mraise\u001b[0m \u001b[0me\u001b[0m\u001b[1;33m.\u001b[0m\u001b[0mwith_traceback\u001b[0m\u001b[1;33m(\u001b[0m\u001b[0mfiltered_tb\u001b[0m\u001b[1;33m)\u001b[0m \u001b[1;32mfrom\u001b[0m \u001b[1;32mNone\u001b[0m\u001b[1;33m\u001b[0m\u001b[1;33m\u001b[0m\u001b[0m\n\u001b[0m\u001b[0;32m     68\u001b[0m     \u001b[1;32mfinally\u001b[0m\u001b[1;33m:\u001b[0m\u001b[1;33m\u001b[0m\u001b[1;33m\u001b[0m\u001b[0m\n\u001b[0;32m     69\u001b[0m       \u001b[1;32mdel\u001b[0m \u001b[0mfiltered_tb\u001b[0m\u001b[1;33m\u001b[0m\u001b[1;33m\u001b[0m\u001b[0m\n",
      "\u001b[1;32m~\\anaconda3\\lib\\site-packages\\tensorflow\\python\\framework\\tensor_shape.py\u001b[0m in \u001b[0;36m__getitem__\u001b[1;34m(self, key)\u001b[0m\n\u001b[0;32m    907\u001b[0m       \u001b[1;32melse\u001b[0m\u001b[1;33m:\u001b[0m\u001b[1;33m\u001b[0m\u001b[1;33m\u001b[0m\u001b[0m\n\u001b[0;32m    908\u001b[0m         \u001b[1;32mif\u001b[0m \u001b[0mself\u001b[0m\u001b[1;33m.\u001b[0m\u001b[0m_v2_behavior\u001b[0m\u001b[1;33m:\u001b[0m\u001b[1;33m\u001b[0m\u001b[1;33m\u001b[0m\u001b[0m\n\u001b[1;32m--> 909\u001b[1;33m           \u001b[1;32mreturn\u001b[0m \u001b[0mself\u001b[0m\u001b[1;33m.\u001b[0m\u001b[0m_dims\u001b[0m\u001b[1;33m[\u001b[0m\u001b[0mkey\u001b[0m\u001b[1;33m]\u001b[0m\u001b[1;33m\u001b[0m\u001b[1;33m\u001b[0m\u001b[0m\n\u001b[0m\u001b[0;32m    910\u001b[0m         \u001b[1;32melse\u001b[0m\u001b[1;33m:\u001b[0m\u001b[1;33m\u001b[0m\u001b[1;33m\u001b[0m\u001b[0m\n\u001b[0;32m    911\u001b[0m           \u001b[1;32mreturn\u001b[0m \u001b[0mself\u001b[0m\u001b[1;33m.\u001b[0m\u001b[0mdims\u001b[0m\u001b[1;33m[\u001b[0m\u001b[0mkey\u001b[0m\u001b[1;33m]\u001b[0m\u001b[1;33m\u001b[0m\u001b[1;33m\u001b[0m\u001b[0m\n",
      "\u001b[1;31mIndexError\u001b[0m: tuple index out of range"
     ]
    }
   ],
   "source": [
    "model.predict(test)"
   ]
  },
  {
   "cell_type": "code",
   "execution_count": null,
   "id": "9366a556",
   "metadata": {},
   "outputs": [],
   "source": []
  }
 ],
 "metadata": {
  "kernelspec": {
   "display_name": "Python 3 (ipykernel)",
   "language": "python",
   "name": "python3"
  },
  "language_info": {
   "codemirror_mode": {
    "name": "ipython",
    "version": 3
   },
   "file_extension": ".py",
   "mimetype": "text/x-python",
   "name": "python",
   "nbconvert_exporter": "python",
   "pygments_lexer": "ipython3",
   "version": "3.9.7"
  }
 },
 "nbformat": 4,
 "nbformat_minor": 5
}
